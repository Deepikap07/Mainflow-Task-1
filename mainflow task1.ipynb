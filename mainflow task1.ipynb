{
 "cells": [
  {
   "cell_type": "code",
   "execution_count": 6,
   "id": "af7e6b1d-d26f-429c-bd13-6e8653263cb6",
   "metadata": {},
   "outputs": [
    {
     "name": "stdout",
     "output_type": "stream",
     "text": [
      "Updated_List [1, 9, 3, 4, 6, 7, 8, 10]\n"
     ]
    }
   ],
   "source": [
    "#Creating a List\n",
    "\n",
    "num_list = [1,2,3,4,5,6,7,8]\n",
    "\n",
    "#Adding\n",
    "num_list.append(10)\n",
    "\n",
    "#Removing\n",
    "num_list.remove(5)\n",
    "\n",
    "#Modifying\n",
    "num_list[1]=9\n",
    "\n",
    "print(\"Updated_List\",num_list)\n",
    "\n"
   ]
  },
  {
   "cell_type": "code",
   "execution_count": 7,
   "id": "ca83a64a-214c-4071-a588-b919b13dd6a8",
   "metadata": {},
   "outputs": [
    {
     "name": "stdout",
     "output_type": "stream",
     "text": [
      "updated Dictionary {'Name': 'Sham', 'Age': '20', 'Gender': 'Male'}\n"
     ]
    }
   ],
   "source": [
    "#Creating a dictionary\n",
    "\n",
    "my_dict={\"Name\":\"Ram\",\"Age\":\"20\",\"Marks\":[60,46,76]}\n",
    "\n",
    "#Adding\n",
    "my_dict[\"Gender\"]=\"Male\"\n",
    "\n",
    "#Removing\n",
    "del my_dict[\"Marks\"]\n",
    "\n",
    "#Modifying\n",
    "my_dict[\"Name\"]=\"Sham\"\n",
    "\n",
    "print(\"updated Dictionary\",my_dict)"
   ]
  },
  {
   "cell_type": "code",
   "execution_count": 9,
   "id": "ee4071ae-6724-4c23-8be8-4cca5911275c",
   "metadata": {},
   "outputs": [
    {
     "name": "stdout",
     "output_type": "stream",
     "text": [
      "updated Set {1, 3, 5, 6, 7, 8, 9}\n"
     ]
    }
   ],
   "source": [
    "#Creating a Set\n",
    "\n",
    "my_set={1,2,3,4,5,6,7}\n",
    "\n",
    "#Adding\n",
    "my_set.add(9)\n",
    "\n",
    "#Removing\n",
    "my_set.remove(4)\n",
    "\n",
    "#Modifying\n",
    "my_set.discard(2)\n",
    "my_set.add(8)\n",
    "\n",
    "print(\"updated Set\",my_set)"
   ]
  },
  {
   "cell_type": "code",
   "execution_count": null,
   "id": "7d32c316-3f4b-4605-ad2c-bbd37c6140ca",
   "metadata": {},
   "outputs": [],
   "source": []
  },
  {
   "cell_type": "code",
   "execution_count": null,
   "id": "4b1c580f-eb1e-445c-a58e-09d434bdf2bc",
   "metadata": {},
   "outputs": [],
   "source": []
  }
 ],
 "metadata": {
  "kernelspec": {
   "display_name": "Python 3 (ipykernel)",
   "language": "python",
   "name": "python3"
  },
  "language_info": {
   "codemirror_mode": {
    "name": "ipython",
    "version": 3
   },
   "file_extension": ".py",
   "mimetype": "text/x-python",
   "name": "python",
   "nbconvert_exporter": "python",
   "pygments_lexer": "ipython3",
   "version": "3.12.7"
  }
 },
 "nbformat": 4,
 "nbformat_minor": 5
}
